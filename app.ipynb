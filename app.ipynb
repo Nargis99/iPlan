{
 "cells": [
  {
   "cell_type": "code",
   "execution_count": 1,
   "metadata": {},
   "outputs": [],
   "source": [
    "# IMPORTING LIBRARIES\n",
    "import pyodbc\n",
    "import numpy as np\n",
    "import pandas as pd\n",
    "from flask import *"
   ]
  },
  {
   "cell_type": "code",
   "execution_count": 2,
   "metadata": {},
   "outputs": [],
   "source": [
    "# Connecting to the database\n",
    "DB = {'servername': 'AW02PSQLC007',\n",
    "      'database': 'India_GTSG'}\n",
    "conn = pyodbc.connect('DRIVER={SQL Server}; SERVER=' + DB['servername'] + ';DATABASE=' + DB['database'] + ';Trusted_Connection=yes')"
   ]
  },
  {
   "cell_type": "code",
   "execution_count": 3,
   "metadata": {},
   "outputs": [],
   "source": [
    "# To initate the app\n",
    "app = Flask(__name__)\n",
    "# Route 1: For Index page\n",
    "@app.route('/')  \n",
    "def main():  \n",
    "    return render_template(\"index.html\")"
   ]
  },
  {
   "cell_type": "code",
   "execution_count": 4,
   "metadata": {},
   "outputs": [],
   "source": [
    "@app.route('/login.html')\n",
    "def login():\n",
    "    return render_template('index.html')"
   ]
  },
  {
   "cell_type": "code",
   "execution_count": 5,
   "metadata": {},
   "outputs": [],
   "source": [
    "@app.route('/store.html')\n",
    "def store():\n",
    "    return render_template('signup.html')"
   ]
  },
  {
   "cell_type": "code",
   "execution_count": 6,
   "metadata": {},
   "outputs": [],
   "source": [
    "@app.route('/success2', methods=['POST'])\n",
    "def success2():\n",
    "    email = request.form.get('email')\n",
    "    password = request.form.get('password')\n",
    "    query = \"SELECT COUNT(*) FROM iplan_signup WHERE email = ? AND passwords = ?\"\n",
    "    Values = [email,password]\n",
    "    cursor = conn.cursor()\n",
    "    cursor.execute(query, Values)\n",
    "    result = cursor.fetchone()[0]\n",
    "    \n",
    "    if result>0:\n",
    "        Full_Name = \"\"\"SELECT \n",
    "        CONCAT(\n",
    "            COALESCE(EMP_FNAME, ''),\n",
    "            ' ',\n",
    "            COALESCE(EMP_MI, ''),\n",
    "            ' ',\n",
    "            COALESCE(EMP_LNAME, '')\n",
    "        ) AS FullName\n",
    "        FROM \n",
    "            EmailListBuilder\n",
    "        WHERE \n",
    "            EMAIL_ADDRESS = ?;\"\"\"\n",
    "        Values = [email]\n",
    "        cursor2 = conn.cursor()\n",
    "        cursor2.execute(Full_Name, Values)\n",
    "        result = cursor2.fetchone()[0]\n",
    "        \n",
    "        detail = \"\"\"select ProjectName, Days from iplan_pif WHERE PMEmail = ?;\"\"\"\n",
    "        Values = [email]\n",
    "        cursor5 = conn.cursor()\n",
    "        cursor5.execute(detail, Values)\n",
    "        rows = cursor5.fetchall()\n",
    "        \n",
    "        return render_template('iplan.html', fullname = result, rows = rows, email = email)"
   ]
  },
  {
   "cell_type": "code",
   "execution_count": 7,
   "metadata": {},
   "outputs": [],
   "source": [
    "@app.route('/success', methods=['POST'])\n",
    "def success():\n",
    "    name = request.form.get('fname')\n",
    "    email = request.form.get('email')\n",
    "    password = request.form.get('password')\n",
    "\n",
    "    SQLCommand = \"INSERT INTO iplan_signup(fullname, email, passwords) VALUES (?, ?, ?)\"\n",
    "    Values = [name, email, password]\n",
    "    cursor3 = conn.cursor()\n",
    "    cursor3.execute(SQLCommand, Values)\n",
    "    conn.commit()\n",
    "    \n",
    "    Full_Name = \"\"\"SELECT \n",
    "    CONCAT(\n",
    "        COALESCE(EMP_FNAME, ''),\n",
    "        ' ',\n",
    "        COALESCE(EMP_MI, ''),\n",
    "        ' ',\n",
    "        COALESCE(EMP_LNAME, '')\n",
    "    ) AS FullName\n",
    "    FROM \n",
    "        EmailListBuilder\n",
    "    WHERE \n",
    "        EMAIL_ADDRESS = ?;\"\"\"\n",
    "    Values = [email]\n",
    "    cursor4 = conn.cursor()\n",
    "    cursor4.execute(Full_Name, Values)\n",
    "    result = cursor4.fetchone()[0]\n",
    "    \n",
    "    detail = \"\"\"select ProjectName, Days from iplan_pif WHERE PMEmail = ?;\"\"\"\n",
    "    Values = [email]\n",
    "    cursor5 = conn.cursor()\n",
    "    cursor5.execute(detail, Values)\n",
    "    rows = cursor5.fetchall()\n",
    "    \n",
    "    return render_template(\"iplan.html\", fullname = result, rows = rows)"
   ]
  },
  {
   "cell_type": "code",
   "execution_count": null,
   "metadata": {},
   "outputs": [
    {
     "name": "stdout",
     "output_type": "stream",
     "text": [
      " * Serving Flask app '__main__'\n",
      " * Debug mode: on\n"
     ]
    },
    {
     "name": "stderr",
     "output_type": "stream",
     "text": [
      "WARNING: This is a development server. Do not use it in a production deployment. Use a production WSGI server instead.\n",
      " * Running on all addresses (0.0.0.0)\n",
      " * Running on http://127.0.0.1:5000\n",
      " * Running on http://10.57.14.0:5000\n",
      "Press CTRL+C to quit\n",
      "10.57.14.0 - - [25/Dec/2023 12:10:07] \"GET / HTTP/1.1\" 200 -\n",
      "10.57.14.0 - - [25/Dec/2023 12:10:08] \"GET /static/use3.png HTTP/1.1\" 304 -\n",
      "10.57.14.0 - - [25/Dec/2023 12:10:14] \"POST /success2 HTTP/1.1\" 200 -\n",
      "10.57.14.0 - - [25/Dec/2023 12:10:14] \"GET /static/logo.png HTTP/1.1\" 304 -\n",
      "10.57.14.0 - - [25/Dec/2023 12:10:44] \"POST /success2 HTTP/1.1\" 200 -\n",
      "10.57.14.0 - - [25/Dec/2023 12:10:44] \"GET /static/logo.png HTTP/1.1\" 304 -\n",
      "10.57.14.0 - - [25/Dec/2023 12:10:45] \"GET /static/logo.png HTTP/1.1\" 304 -\n",
      "10.57.14.0 - - [25/Dec/2023 12:11:43] \"POST /success2 HTTP/1.1\" 200 -\n",
      "10.57.14.0 - - [25/Dec/2023 12:11:43] \"GET /static/logo.png HTTP/1.1\" 304 -\n",
      "10.57.14.0 - - [25/Dec/2023 12:11:43] \"GET /static/logo.png HTTP/1.1\" 304 -\n",
      "10.57.14.0 - - [25/Dec/2023 12:12:38] \"POST /success2 HTTP/1.1\" 200 -\n",
      "10.57.14.0 - - [25/Dec/2023 12:12:38] \"GET /static/logo.png HTTP/1.1\" 304 -\n",
      "10.57.14.0 - - [25/Dec/2023 12:12:39] \"GET /static/logo.png HTTP/1.1\" 304 -\n",
      "10.57.14.0 - - [25/Dec/2023 12:12:59] \"POST /success2 HTTP/1.1\" 200 -\n",
      "10.57.14.0 - - [25/Dec/2023 12:12:59] \"GET /static/logo.png HTTP/1.1\" 304 -\n",
      "10.57.14.0 - - [25/Dec/2023 12:13:00] \"GET /static/logo.png HTTP/1.1\" 304 -\n",
      "10.57.14.0 - - [25/Dec/2023 12:15:39] \"POST /success2 HTTP/1.1\" 200 -\n",
      "10.57.14.0 - - [25/Dec/2023 12:15:39] \"GET /static/logo.png HTTP/1.1\" 304 -\n",
      "10.57.14.0 - - [25/Dec/2023 12:15:40] \"GET /static/logo.png HTTP/1.1\" 304 -\n",
      "10.57.14.0 - - [25/Dec/2023 12:15:53] \"POST /success2 HTTP/1.1\" 200 -\n",
      "10.57.14.0 - - [25/Dec/2023 12:15:53] \"GET /static/logo.png HTTP/1.1\" 304 -\n",
      "10.57.14.0 - - [25/Dec/2023 12:15:54] \"GET /static/logo.png HTTP/1.1\" 304 -\n",
      "10.57.14.0 - - [25/Dec/2023 12:16:22] \"POST /success2 HTTP/1.1\" 200 -\n",
      "10.57.14.0 - - [25/Dec/2023 12:16:22] \"GET /static/logo.png HTTP/1.1\" 304 -\n",
      "10.57.14.0 - - [25/Dec/2023 12:16:23] \"GET /static/logo.png HTTP/1.1\" 304 -\n",
      "10.57.14.0 - - [25/Dec/2023 12:16:35] \"POST /success2 HTTP/1.1\" 200 -\n",
      "10.57.14.0 - - [25/Dec/2023 12:16:35] \"GET /static/logo.png HTTP/1.1\" 304 -\n",
      "10.57.14.0 - - [25/Dec/2023 12:16:36] \"GET /static/logo.png HTTP/1.1\" 304 -\n",
      "10.57.14.0 - - [25/Dec/2023 12:17:04] \"POST /success2 HTTP/1.1\" 200 -\n",
      "10.57.14.0 - - [25/Dec/2023 12:17:04] \"GET /static/logo.png HTTP/1.1\" 304 -\n",
      "10.57.14.0 - - [25/Dec/2023 12:17:05] \"GET /static/logo.png HTTP/1.1\" 304 -\n",
      "10.57.14.0 - - [25/Dec/2023 12:17:35] \"POST /success2 HTTP/1.1\" 200 -\n",
      "10.57.14.0 - - [25/Dec/2023 12:17:35] \"GET /static/logo.png HTTP/1.1\" 304 -\n",
      "10.57.14.0 - - [25/Dec/2023 12:17:35] \"GET /static/logo.png HTTP/1.1\" 304 -\n",
      "10.57.14.0 - - [25/Dec/2023 12:18:13] \"POST /success2 HTTP/1.1\" 200 -\n",
      "10.57.14.0 - - [25/Dec/2023 12:18:13] \"GET /static/logo.png HTTP/1.1\" 304 -\n",
      "10.57.14.0 - - [25/Dec/2023 12:20:08] \"POST /success2 HTTP/1.1\" 200 -\n",
      "10.57.14.0 - - [25/Dec/2023 12:20:08] \"GET /static/logo.png HTTP/1.1\" 304 -\n",
      "10.57.14.0 - - [25/Dec/2023 12:20:09] \"GET /static/logo.png HTTP/1.1\" 304 -\n",
      "10.57.14.0 - - [25/Dec/2023 12:20:31] \"POST /success2 HTTP/1.1\" 200 -\n",
      "10.57.14.0 - - [25/Dec/2023 12:20:31] \"GET /static/logo.png HTTP/1.1\" 304 -\n",
      "10.57.14.0 - - [25/Dec/2023 12:20:32] \"GET /static/logo.png HTTP/1.1\" 304 -\n",
      "10.57.14.0 - - [25/Dec/2023 12:20:49] \"POST /success2 HTTP/1.1\" 200 -\n",
      "10.57.14.0 - - [25/Dec/2023 12:20:49] \"GET /static/logo.png HTTP/1.1\" 304 -\n",
      "10.57.14.0 - - [25/Dec/2023 12:21:31] \"POST /success2 HTTP/1.1\" 200 -\n",
      "10.57.14.0 - - [25/Dec/2023 12:21:31] \"GET /static/logo.png HTTP/1.1\" 304 -\n"
     ]
    }
   ],
   "source": [
    "if __name__ == '__main__':\n",
    "    app.run(host = \"0.0.0.0\", debug=True, use_reloader=False)"
   ]
  },
  {
   "cell_type": "code",
   "execution_count": null,
   "metadata": {},
   "outputs": [],
   "source": []
  },
  {
   "cell_type": "code",
   "execution_count": null,
   "metadata": {},
   "outputs": [],
   "source": []
  },
  {
   "cell_type": "code",
   "execution_count": null,
   "metadata": {},
   "outputs": [],
   "source": []
  },
  {
   "cell_type": "code",
   "execution_count": null,
   "metadata": {},
   "outputs": [],
   "source": []
  },
  {
   "cell_type": "code",
   "execution_count": null,
   "metadata": {},
   "outputs": [],
   "source": []
  },
  {
   "cell_type": "code",
   "execution_count": null,
   "metadata": {},
   "outputs": [],
   "source": []
  },
  {
   "cell_type": "code",
   "execution_count": null,
   "metadata": {},
   "outputs": [],
   "source": []
  },
  {
   "cell_type": "code",
   "execution_count": null,
   "metadata": {},
   "outputs": [],
   "source": []
  }
 ],
 "metadata": {
  "kernelspec": {
   "display_name": "Python 3 (ipykernel)",
   "language": "python",
   "name": "python3"
  },
  "language_info": {
   "codemirror_mode": {
    "name": "ipython",
    "version": 3
   },
   "file_extension": ".py",
   "mimetype": "text/x-python",
   "name": "python",
   "nbconvert_exporter": "python",
   "pygments_lexer": "ipython3",
   "version": "3.10.9"
  }
 },
 "nbformat": 4,
 "nbformat_minor": 2
}
